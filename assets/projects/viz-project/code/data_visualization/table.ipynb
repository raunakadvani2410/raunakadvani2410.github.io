{
 "cells": [
  {
   "cell_type": "code",
   "execution_count": null,
   "metadata": {},
   "outputs": [],
   "source": []
  },
  {
   "cell_type": "code",
   "execution_count": 2,
   "metadata": {},
   "outputs": [],
   "source": [
    "import plotly.graph_objects as go\n",
    "import plotly.io as pio\n",
    "import os\n",
    "import pandas as pd\n",
    "import numpy as np"
   ]
  },
  {
   "cell_type": "code",
   "execution_count": 4,
   "metadata": {},
   "outputs": [],
   "source": [
    "df = pd.read_csv('../../data/job_data.csv')"
   ]
  },
  {
   "cell_type": "code",
   "execution_count": 5,
   "metadata": {},
   "outputs": [
    {
     "data": {
      "text/html": [
       "<div>\n",
       "<style scoped>\n",
       "    .dataframe tbody tr th:only-of-type {\n",
       "        vertical-align: middle;\n",
       "    }\n",
       "\n",
       "    .dataframe tbody tr th {\n",
       "        vertical-align: top;\n",
       "    }\n",
       "\n",
       "    .dataframe thead th {\n",
       "        text-align: right;\n",
       "    }\n",
       "</style>\n",
       "<table border=\"1\" class=\"dataframe\">\n",
       "  <thead>\n",
       "    <tr style=\"text-align: right;\">\n",
       "      <th></th>\n",
       "      <th>Unnamed: 0</th>\n",
       "      <th>title</th>\n",
       "      <th>company_name</th>\n",
       "      <th>location</th>\n",
       "      <th>via</th>\n",
       "      <th>description</th>\n",
       "      <th>schedule_type</th>\n",
       "      <th>salary</th>\n",
       "      <th>query</th>\n",
       "      <th>qualifications</th>\n",
       "      <th>responsibilities</th>\n",
       "      <th>benefits</th>\n",
       "      <th>degree</th>\n",
       "      <th>experience</th>\n",
       "      <th>remote</th>\n",
       "      <th>city</th>\n",
       "      <th>state</th>\n",
       "    </tr>\n",
       "  </thead>\n",
       "  <tbody>\n",
       "    <tr>\n",
       "      <th>0</th>\n",
       "      <td>0</td>\n",
       "      <td>Ethereum Blockchain Developer (Remote)</td>\n",
       "      <td>Ex Populus</td>\n",
       "      <td>Anywhere</td>\n",
       "      <td>Built In</td>\n",
       "      <td>Company Overview:\\nEx Populus is a cutting-edg...</td>\n",
       "      <td>Full-time</td>\n",
       "      <td>NaN</td>\n",
       "      <td>Blockchain</td>\n",
       "      <td>['2-3 years of Software Development experience...</td>\n",
       "      <td>['Design, maintain and deploy smart contracts ...</td>\n",
       "      <td>NaN</td>\n",
       "      <td>NaN</td>\n",
       "      <td>2.5</td>\n",
       "      <td>True</td>\n",
       "      <td>NaN</td>\n",
       "      <td>NaN</td>\n",
       "    </tr>\n",
       "    <tr>\n",
       "      <th>1</th>\n",
       "      <td>1</td>\n",
       "      <td>Blockchain Engineer</td>\n",
       "      <td>21.co</td>\n",
       "      <td>New York, NY</td>\n",
       "      <td>Greenhouse</td>\n",
       "      <td>We are seeking a highly motivated and skilled ...</td>\n",
       "      <td>Full-time</td>\n",
       "      <td>180000.0</td>\n",
       "      <td>Blockchain</td>\n",
       "      <td>[\"Bachelor's or Master's degree in Computer Sc...</td>\n",
       "      <td>['As a Blockchain Engineer, you will be respon...</td>\n",
       "      <td>['(NYC only) Pursuant to Section 8-102 of titl...</td>\n",
       "      <td>Master's</td>\n",
       "      <td>NaN</td>\n",
       "      <td>False</td>\n",
       "      <td>New York</td>\n",
       "      <td>New York</td>\n",
       "    </tr>\n",
       "    <tr>\n",
       "      <th>2</th>\n",
       "      <td>2</td>\n",
       "      <td>Blockchain Course Instructor</td>\n",
       "      <td>Blockchain Institute of Technology</td>\n",
       "      <td>Anywhere</td>\n",
       "      <td>LinkedIn</td>\n",
       "      <td>Are you a blockchain, cryptocurrency, NFT, Met...</td>\n",
       "      <td>Contractor</td>\n",
       "      <td>NaN</td>\n",
       "      <td>Blockchain</td>\n",
       "      <td>['3+ years of experience in blockchain, crypto...</td>\n",
       "      <td>['Our expert technical team will provide the s...</td>\n",
       "      <td>NaN</td>\n",
       "      <td>NaN</td>\n",
       "      <td>3.0</td>\n",
       "      <td>True</td>\n",
       "      <td>NaN</td>\n",
       "      <td>NaN</td>\n",
       "    </tr>\n",
       "    <tr>\n",
       "      <th>3</th>\n",
       "      <td>3</td>\n",
       "      <td>Python based - Blockchain developer to join ex...</td>\n",
       "      <td>Upwork</td>\n",
       "      <td>Anywhere</td>\n",
       "      <td>Upwork</td>\n",
       "      <td>Need someone to join our existing team to spee...</td>\n",
       "      <td>Contractor</td>\n",
       "      <td>41600.0</td>\n",
       "      <td>Blockchain</td>\n",
       "      <td>['Candidates must be willing to sign, non-disc...</td>\n",
       "      <td>['Will discuss details with the selected candi...</td>\n",
       "      <td>NaN</td>\n",
       "      <td>NaN</td>\n",
       "      <td>NaN</td>\n",
       "      <td>True</td>\n",
       "      <td>NaN</td>\n",
       "      <td>NaN</td>\n",
       "    </tr>\n",
       "    <tr>\n",
       "      <th>4</th>\n",
       "      <td>4</td>\n",
       "      <td>Blockchain DevOps Engineer (Remote)</td>\n",
       "      <td>Telnyx</td>\n",
       "      <td>United States</td>\n",
       "      <td>Startup Jobs</td>\n",
       "      <td>About Telnyx\\n\\nAt Telnyx, we’re architecting ...</td>\n",
       "      <td>Full-time</td>\n",
       "      <td>NaN</td>\n",
       "      <td>Blockchain</td>\n",
       "      <td>['You are a highly motivated and experienced B...</td>\n",
       "      <td>['To build a best-in-class Filecoin (FIL) Mini...</td>\n",
       "      <td>NaN</td>\n",
       "      <td>Bachelor's</td>\n",
       "      <td>NaN</td>\n",
       "      <td>True</td>\n",
       "      <td>NaN</td>\n",
       "      <td>NaN</td>\n",
       "    </tr>\n",
       "    <tr>\n",
       "      <th>5</th>\n",
       "      <td>5</td>\n",
       "      <td>Ethereum Developer Remote US (Blockchain-DeFi)</td>\n",
       "      <td>Turnblock.io</td>\n",
       "      <td>Anywhere</td>\n",
       "      <td>ZipRecruiter</td>\n",
       "      <td>Our client is on crypto’s cutting edge technol...</td>\n",
       "      <td>Full-time</td>\n",
       "      <td>150000.0</td>\n",
       "      <td>Blockchain</td>\n",
       "      <td>['5+ years of development experience', 'Experi...</td>\n",
       "      <td>['As a member of an agile engineering team, yo...</td>\n",
       "      <td>['Great compensation package']</td>\n",
       "      <td>NaN</td>\n",
       "      <td>5.0</td>\n",
       "      <td>True</td>\n",
       "      <td>NaN</td>\n",
       "      <td>NaN</td>\n",
       "    </tr>\n",
       "    <tr>\n",
       "      <th>6</th>\n",
       "      <td>6</td>\n",
       "      <td>Social Media Marketing (Blockchain/Crypto)</td>\n",
       "      <td>Bitquery</td>\n",
       "      <td>Anywhere</td>\n",
       "      <td>AngelList</td>\n",
       "      <td>• Maintain a social media calendar\\n• Build Bi...</td>\n",
       "      <td>Full-time</td>\n",
       "      <td>NaN</td>\n",
       "      <td>Blockchain</td>\n",
       "      <td>['English Proficiency (Written and Speaking) w...</td>\n",
       "      <td>['Put our Bitquery updates and educational con...</td>\n",
       "      <td>['Opportunity to work &amp; collaborate with a tru...</td>\n",
       "      <td>NaN</td>\n",
       "      <td>NaN</td>\n",
       "      <td>True</td>\n",
       "      <td>NaN</td>\n",
       "      <td>NaN</td>\n",
       "    </tr>\n",
       "    <tr>\n",
       "      <th>7</th>\n",
       "      <td>7</td>\n",
       "      <td>Senior Software Engineer - Blockchain Network ...</td>\n",
       "      <td>Jobot</td>\n",
       "      <td>Anywhere</td>\n",
       "      <td>Dice</td>\n",
       "      <td>competitive salaries, stock options, company p...</td>\n",
       "      <td>Full-time</td>\n",
       "      <td>175000.0</td>\n",
       "      <td>Blockchain</td>\n",
       "      <td>['At least 5 years of experience with designin...</td>\n",
       "      <td>['Rotating breakfast menu served daily', 'Dinn...</td>\n",
       "      <td>['Salary: $150,000 - $200,000 per year', 'Our ...</td>\n",
       "      <td>NaN</td>\n",
       "      <td>5.0</td>\n",
       "      <td>True</td>\n",
       "      <td>NaN</td>\n",
       "      <td>NaN</td>\n",
       "    </tr>\n",
       "    <tr>\n",
       "      <th>8</th>\n",
       "      <td>8</td>\n",
       "      <td>Blockchain Developer</td>\n",
       "      <td>Atechstar</td>\n",
       "      <td>United States</td>\n",
       "      <td>OPTnation</td>\n",
       "      <td>Requirements: Strong software development back...</td>\n",
       "      <td>Full-time</td>\n",
       "      <td>141000.0</td>\n",
       "      <td>Blockchain</td>\n",
       "      <td>['Requirements: Strong software development ba...</td>\n",
       "      <td>NaN</td>\n",
       "      <td>NaN</td>\n",
       "      <td>NaN</td>\n",
       "      <td>NaN</td>\n",
       "      <td>True</td>\n",
       "      <td>NaN</td>\n",
       "      <td>NaN</td>\n",
       "    </tr>\n",
       "    <tr>\n",
       "      <th>9</th>\n",
       "      <td>9</td>\n",
       "      <td>DeFi Blockchain Co-Founder</td>\n",
       "      <td>Cryptops Exchange</td>\n",
       "      <td>Anywhere</td>\n",
       "      <td>LinkedIn</td>\n",
       "      <td>Cryptops is currently looking for a Co-Founder...</td>\n",
       "      <td>Full-time</td>\n",
       "      <td>NaN</td>\n",
       "      <td>Blockchain</td>\n",
       "      <td>['Can personally invest or immediately support...</td>\n",
       "      <td>['Other decentralized derivatives exchanges re...</td>\n",
       "      <td>NaN</td>\n",
       "      <td>NaN</td>\n",
       "      <td>NaN</td>\n",
       "      <td>True</td>\n",
       "      <td>NaN</td>\n",
       "      <td>NaN</td>\n",
       "    </tr>\n",
       "  </tbody>\n",
       "</table>\n",
       "</div>"
      ],
      "text/plain": [
       "   Unnamed: 0                                              title  \\\n",
       "0           0             Ethereum Blockchain Developer (Remote)   \n",
       "1           1                                Blockchain Engineer   \n",
       "2           2                       Blockchain Course Instructor   \n",
       "3           3  Python based - Blockchain developer to join ex...   \n",
       "4           4                Blockchain DevOps Engineer (Remote)   \n",
       "5           5     Ethereum Developer Remote US (Blockchain-DeFi)   \n",
       "6           6         Social Media Marketing (Blockchain/Crypto)   \n",
       "7           7  Senior Software Engineer - Blockchain Network ...   \n",
       "8           8                               Blockchain Developer   \n",
       "9           9                         DeFi Blockchain Co-Founder   \n",
       "\n",
       "                         company_name       location           via  \\\n",
       "0                          Ex Populus       Anywhere      Built In   \n",
       "1                               21.co   New York, NY    Greenhouse   \n",
       "2  Blockchain Institute of Technology       Anywhere      LinkedIn   \n",
       "3                              Upwork       Anywhere        Upwork   \n",
       "4                              Telnyx  United States  Startup Jobs   \n",
       "5                        Turnblock.io       Anywhere  ZipRecruiter   \n",
       "6                            Bitquery       Anywhere     AngelList   \n",
       "7                               Jobot       Anywhere          Dice   \n",
       "8                           Atechstar  United States     OPTnation   \n",
       "9                   Cryptops Exchange       Anywhere      LinkedIn   \n",
       "\n",
       "                                         description schedule_type    salary  \\\n",
       "0  Company Overview:\\nEx Populus is a cutting-edg...     Full-time       NaN   \n",
       "1  We are seeking a highly motivated and skilled ...     Full-time  180000.0   \n",
       "2  Are you a blockchain, cryptocurrency, NFT, Met...    Contractor       NaN   \n",
       "3  Need someone to join our existing team to spee...    Contractor   41600.0   \n",
       "4  About Telnyx\\n\\nAt Telnyx, we’re architecting ...     Full-time       NaN   \n",
       "5  Our client is on crypto’s cutting edge technol...     Full-time  150000.0   \n",
       "6  • Maintain a social media calendar\\n• Build Bi...     Full-time       NaN   \n",
       "7  competitive salaries, stock options, company p...     Full-time  175000.0   \n",
       "8  Requirements: Strong software development back...     Full-time  141000.0   \n",
       "9  Cryptops is currently looking for a Co-Founder...     Full-time       NaN   \n",
       "\n",
       "        query                                     qualifications  \\\n",
       "0  Blockchain  ['2-3 years of Software Development experience...   \n",
       "1  Blockchain  [\"Bachelor's or Master's degree in Computer Sc...   \n",
       "2  Blockchain  ['3+ years of experience in blockchain, crypto...   \n",
       "3  Blockchain  ['Candidates must be willing to sign, non-disc...   \n",
       "4  Blockchain  ['You are a highly motivated and experienced B...   \n",
       "5  Blockchain  ['5+ years of development experience', 'Experi...   \n",
       "6  Blockchain  ['English Proficiency (Written and Speaking) w...   \n",
       "7  Blockchain  ['At least 5 years of experience with designin...   \n",
       "8  Blockchain  ['Requirements: Strong software development ba...   \n",
       "9  Blockchain  ['Can personally invest or immediately support...   \n",
       "\n",
       "                                    responsibilities  \\\n",
       "0  ['Design, maintain and deploy smart contracts ...   \n",
       "1  ['As a Blockchain Engineer, you will be respon...   \n",
       "2  ['Our expert technical team will provide the s...   \n",
       "3  ['Will discuss details with the selected candi...   \n",
       "4  ['To build a best-in-class Filecoin (FIL) Mini...   \n",
       "5  ['As a member of an agile engineering team, yo...   \n",
       "6  ['Put our Bitquery updates and educational con...   \n",
       "7  ['Rotating breakfast menu served daily', 'Dinn...   \n",
       "8                                                NaN   \n",
       "9  ['Other decentralized derivatives exchanges re...   \n",
       "\n",
       "                                            benefits      degree  experience  \\\n",
       "0                                                NaN         NaN         2.5   \n",
       "1  ['(NYC only) Pursuant to Section 8-102 of titl...    Master's         NaN   \n",
       "2                                                NaN         NaN         3.0   \n",
       "3                                                NaN         NaN         NaN   \n",
       "4                                                NaN  Bachelor's         NaN   \n",
       "5                     ['Great compensation package']         NaN         5.0   \n",
       "6  ['Opportunity to work & collaborate with a tru...         NaN         NaN   \n",
       "7  ['Salary: $150,000 - $200,000 per year', 'Our ...         NaN         5.0   \n",
       "8                                                NaN         NaN         NaN   \n",
       "9                                                NaN         NaN         NaN   \n",
       "\n",
       "   remote      city     state  \n",
       "0    True       NaN       NaN  \n",
       "1   False  New York  New York  \n",
       "2    True       NaN       NaN  \n",
       "3    True       NaN       NaN  \n",
       "4    True       NaN       NaN  \n",
       "5    True       NaN       NaN  \n",
       "6    True       NaN       NaN  \n",
       "7    True       NaN       NaN  \n",
       "8    True       NaN       NaN  \n",
       "9    True       NaN       NaN  "
      ]
     },
     "execution_count": 5,
     "metadata": {},
     "output_type": "execute_result"
    }
   ],
   "source": [
    "df.head(10)"
   ]
  },
  {
   "cell_type": "code",
   "execution_count": 6,
   "metadata": {},
   "outputs": [
    {
     "data": {
      "text/plain": [
       "Unnamed: 0            int64\n",
       "title                object\n",
       "company_name         object\n",
       "location             object\n",
       "via                  object\n",
       "description          object\n",
       "schedule_type        object\n",
       "salary              float64\n",
       "query                object\n",
       "qualifications       object\n",
       "responsibilities     object\n",
       "benefits             object\n",
       "degree               object\n",
       "experience          float64\n",
       "remote                 bool\n",
       "city                 object\n",
       "state                object\n",
       "dtype: object"
      ]
     },
     "execution_count": 6,
     "metadata": {},
     "output_type": "execute_result"
    }
   ],
   "source": [
    "df.dtypes"
   ]
  },
  {
   "cell_type": "code",
   "execution_count": 7,
   "metadata": {},
   "outputs": [],
   "source": [
    "# create a copy of the dataframe\n",
    "df_copy = df.copy()\n",
    "\n",
    "# filter out rows with NA or 0 values\n",
    "df_copy = df_copy.dropna(subset=['salary', 'experience'])\n",
    "df_copy = df_copy[(df_copy['salary'] > 0) & (df_copy['experience'] > 0)]\n",
    "\n",
    "# round the 'salary' column to the nearest 1000\n",
    "df_copy['salary'] = np.round(df_copy['salary'] / 1000) * 1000\n",
    "\n",
    "# round the 'experience' column to the nearest year\n",
    "df_copy['experience'] = np.round(df_copy['experience']).astype('int64')\n",
    "\n",
    "# group by state and calculate the sum of salary\n",
    "salary_by_state = df_copy.groupby('state')['salary'].mean().reset_index()\n",
    "\n",
    "# group by state and calculate the mean of experience\n",
    "experience_by_state = df_copy.groupby('state')['experience'].mean().reset_index()\n"
   ]
  },
  {
   "cell_type": "code",
   "execution_count": 8,
   "metadata": {},
   "outputs": [
    {
     "data": {
      "text/plain": [
       "state          object\n",
       "experience    float64\n",
       "dtype: object"
      ]
     },
     "execution_count": 8,
     "metadata": {},
     "output_type": "execute_result"
    }
   ],
   "source": [
    "experience_by_state.dtypes"
   ]
  },
  {
   "cell_type": "code",
   "execution_count": 9,
   "metadata": {},
   "outputs": [],
   "source": [
    "experience_by_state['experience'] = experience_by_state['experience'].round().astype(int) # round to whole number"
   ]
  },
  {
   "cell_type": "code",
   "execution_count": 10,
   "metadata": {},
   "outputs": [],
   "source": [
    "salary_by_state['salary'] = salary_by_state['salary'].round(-3) # round to nearest 1000"
   ]
  },
  {
   "cell_type": "code",
   "execution_count": 13,
   "metadata": {},
   "outputs": [
    {
     "ename": "ValueError",
     "evalue": "Unable to parse string \"$152,000\" at position 0",
     "output_type": "error",
     "traceback": [
      "\u001b[0;31m---------------------------------------------------------------------------\u001b[0m",
      "\u001b[0;31mValueError\u001b[0m                                Traceback (most recent call last)",
      "File \u001b[0;32m~/opt/anaconda3/envs/anly503/lib/python3.10/site-packages/pandas/_libs/lib.pyx:2363\u001b[0m, in \u001b[0;36mpandas._libs.lib.maybe_convert_numeric\u001b[0;34m()\u001b[0m\n",
      "\u001b[0;31mValueError\u001b[0m: Unable to parse string \"$152,000\"",
      "\nDuring handling of the above exception, another exception occurred:\n",
      "\u001b[0;31mValueError\u001b[0m                                Traceback (most recent call last)",
      "Cell \u001b[0;32mIn[13], line 2\u001b[0m\n\u001b[1;32m      1\u001b[0m salary_format \u001b[39m=\u001b[39m \u001b[39mlambda\u001b[39;00m x: \u001b[39m'\u001b[39m\u001b[39m$\u001b[39m\u001b[39m{:,.0f}\u001b[39;00m\u001b[39m'\u001b[39m\u001b[39m.\u001b[39mformat(x)\n\u001b[0;32m----> 2\u001b[0m salary_by_state[\u001b[39m'\u001b[39m\u001b[39msalary\u001b[39m\u001b[39m'\u001b[39m] \u001b[39m=\u001b[39m pd\u001b[39m.\u001b[39;49mto_numeric(salary_by_state[\u001b[39m'\u001b[39;49m\u001b[39msalary\u001b[39;49m\u001b[39m'\u001b[39;49m])\u001b[39m.\u001b[39mapply(salary_format)\n",
      "File \u001b[0;32m~/opt/anaconda3/envs/anly503/lib/python3.10/site-packages/pandas/core/tools/numeric.py:185\u001b[0m, in \u001b[0;36mto_numeric\u001b[0;34m(arg, errors, downcast)\u001b[0m\n\u001b[1;32m    183\u001b[0m coerce_numeric \u001b[39m=\u001b[39m errors \u001b[39mnot\u001b[39;00m \u001b[39min\u001b[39;00m (\u001b[39m\"\u001b[39m\u001b[39mignore\u001b[39m\u001b[39m\"\u001b[39m, \u001b[39m\"\u001b[39m\u001b[39mraise\u001b[39m\u001b[39m\"\u001b[39m)\n\u001b[1;32m    184\u001b[0m \u001b[39mtry\u001b[39;00m:\n\u001b[0;32m--> 185\u001b[0m     values, _ \u001b[39m=\u001b[39m lib\u001b[39m.\u001b[39;49mmaybe_convert_numeric(\n\u001b[1;32m    186\u001b[0m         values, \u001b[39mset\u001b[39;49m(), coerce_numeric\u001b[39m=\u001b[39;49mcoerce_numeric\n\u001b[1;32m    187\u001b[0m     )\n\u001b[1;32m    188\u001b[0m \u001b[39mexcept\u001b[39;00m (\u001b[39mValueError\u001b[39;00m, \u001b[39mTypeError\u001b[39;00m):\n\u001b[1;32m    189\u001b[0m     \u001b[39mif\u001b[39;00m errors \u001b[39m==\u001b[39m \u001b[39m\"\u001b[39m\u001b[39mraise\u001b[39m\u001b[39m\"\u001b[39m:\n",
      "File \u001b[0;32m~/opt/anaconda3/envs/anly503/lib/python3.10/site-packages/pandas/_libs/lib.pyx:2405\u001b[0m, in \u001b[0;36mpandas._libs.lib.maybe_convert_numeric\u001b[0;34m()\u001b[0m\n",
      "\u001b[0;31mValueError\u001b[0m: Unable to parse string \"$152,000\" at position 0"
     ]
    }
   ],
   "source": [
    "salary_format = lambda x: '${:,.0f}'.format(x)\n",
    "salary_by_state['salary'] = pd.to_numeric(salary_by_state['salary']).apply(salary_format)"
   ]
  },
  {
   "cell_type": "code",
   "execution_count": 42,
   "metadata": {},
   "outputs": [
    {
     "data": {
      "application/vnd.plotly.v1+json": {
       "config": {
        "plotlyServerURL": "https://plot.ly"
       },
       "data": [
        {
         "cells": {
          "values": [
           [
            "Arkansas",
            "California",
            "Colorado",
            "District of Columbia",
            "Hawaii",
            "Illinois",
            "Kansas",
            "Maryland",
            "Massachusetts",
            "Nevada",
            "New Jersey",
            "New York",
            "North Carolina",
            "Ohio",
            "Oklahoma",
            "Pennsylvania",
            "Texas",
            "Utah",
            "Virginia",
            "Washington",
            "West Virginia",
            "Wisconsin"
           ],
           [
            6,
            4,
            6,
            4,
            10,
            6,
            3,
            5,
            4,
            3,
            3,
            4,
            4,
            4,
            2,
            5,
            3,
            7,
            7,
            5,
            5,
            7
           ]
          ]
         },
         "header": {
          "fill": {
           "color": "crimson"
          },
          "values": [
           "<b>State",
           "<b>Average Experience Required (Years)"
          ]
         },
         "type": "table",
         "visible": true
        },
        {
         "cells": {
          "values": [
           [
            "Arkansas",
            "California",
            "Colorado",
            "District of Columbia",
            "Hawaii",
            "Illinois",
            "Kansas",
            "Maryland",
            "Massachusetts",
            "Nevada",
            "New Jersey",
            "New York",
            "North Carolina",
            "Ohio",
            "Oklahoma",
            "Pennsylvania",
            "Texas",
            "Utah",
            "Virginia",
            "Washington",
            "West Virginia",
            "Wisconsin"
           ],
           [
            "$152,000",
            "$182,000",
            "$113,000",
            "$137,000",
            "$282,000",
            "$120,000",
            "$100,000",
            "$129,000",
            "$112,000",
            "$118,000",
            "$165,000",
            "$171,000",
            "$155,000",
            "$50,000",
            "$112,000",
            "$156,000",
            "$131,000",
            "$176,000",
            "$163,000",
            "$214,000",
            "$150,000",
            "$141,000"
           ]
          ]
         },
         "header": {
          "fill": {
           "color": "crimson"
          },
          "font": {
           "family": "Arial",
           "size": 13
          },
          "values": [
           "<b>State",
           "<b>Average Annual Salary (USD)"
          ]
         },
         "type": "table",
         "visible": false
        }
       ],
       "layout": {
        "template": {
         "data": {
          "bar": [
           {
            "error_x": {
             "color": "#2a3f5f"
            },
            "error_y": {
             "color": "#2a3f5f"
            },
            "marker": {
             "line": {
              "color": "#E5ECF6",
              "width": 0.5
             },
             "pattern": {
              "fillmode": "overlay",
              "size": 10,
              "solidity": 0.2
             }
            },
            "type": "bar"
           }
          ],
          "barpolar": [
           {
            "marker": {
             "line": {
              "color": "#E5ECF6",
              "width": 0.5
             },
             "pattern": {
              "fillmode": "overlay",
              "size": 10,
              "solidity": 0.2
             }
            },
            "type": "barpolar"
           }
          ],
          "carpet": [
           {
            "aaxis": {
             "endlinecolor": "#2a3f5f",
             "gridcolor": "white",
             "linecolor": "white",
             "minorgridcolor": "white",
             "startlinecolor": "#2a3f5f"
            },
            "baxis": {
             "endlinecolor": "#2a3f5f",
             "gridcolor": "white",
             "linecolor": "white",
             "minorgridcolor": "white",
             "startlinecolor": "#2a3f5f"
            },
            "type": "carpet"
           }
          ],
          "choropleth": [
           {
            "colorbar": {
             "outlinewidth": 0,
             "ticks": ""
            },
            "type": "choropleth"
           }
          ],
          "contour": [
           {
            "colorbar": {
             "outlinewidth": 0,
             "ticks": ""
            },
            "colorscale": [
             [
              0,
              "#0d0887"
             ],
             [
              0.1111111111111111,
              "#46039f"
             ],
             [
              0.2222222222222222,
              "#7201a8"
             ],
             [
              0.3333333333333333,
              "#9c179e"
             ],
             [
              0.4444444444444444,
              "#bd3786"
             ],
             [
              0.5555555555555556,
              "#d8576b"
             ],
             [
              0.6666666666666666,
              "#ed7953"
             ],
             [
              0.7777777777777778,
              "#fb9f3a"
             ],
             [
              0.8888888888888888,
              "#fdca26"
             ],
             [
              1,
              "#f0f921"
             ]
            ],
            "type": "contour"
           }
          ],
          "contourcarpet": [
           {
            "colorbar": {
             "outlinewidth": 0,
             "ticks": ""
            },
            "type": "contourcarpet"
           }
          ],
          "heatmap": [
           {
            "colorbar": {
             "outlinewidth": 0,
             "ticks": ""
            },
            "colorscale": [
             [
              0,
              "#0d0887"
             ],
             [
              0.1111111111111111,
              "#46039f"
             ],
             [
              0.2222222222222222,
              "#7201a8"
             ],
             [
              0.3333333333333333,
              "#9c179e"
             ],
             [
              0.4444444444444444,
              "#bd3786"
             ],
             [
              0.5555555555555556,
              "#d8576b"
             ],
             [
              0.6666666666666666,
              "#ed7953"
             ],
             [
              0.7777777777777778,
              "#fb9f3a"
             ],
             [
              0.8888888888888888,
              "#fdca26"
             ],
             [
              1,
              "#f0f921"
             ]
            ],
            "type": "heatmap"
           }
          ],
          "heatmapgl": [
           {
            "colorbar": {
             "outlinewidth": 0,
             "ticks": ""
            },
            "colorscale": [
             [
              0,
              "#0d0887"
             ],
             [
              0.1111111111111111,
              "#46039f"
             ],
             [
              0.2222222222222222,
              "#7201a8"
             ],
             [
              0.3333333333333333,
              "#9c179e"
             ],
             [
              0.4444444444444444,
              "#bd3786"
             ],
             [
              0.5555555555555556,
              "#d8576b"
             ],
             [
              0.6666666666666666,
              "#ed7953"
             ],
             [
              0.7777777777777778,
              "#fb9f3a"
             ],
             [
              0.8888888888888888,
              "#fdca26"
             ],
             [
              1,
              "#f0f921"
             ]
            ],
            "type": "heatmapgl"
           }
          ],
          "histogram": [
           {
            "marker": {
             "pattern": {
              "fillmode": "overlay",
              "size": 10,
              "solidity": 0.2
             }
            },
            "type": "histogram"
           }
          ],
          "histogram2d": [
           {
            "colorbar": {
             "outlinewidth": 0,
             "ticks": ""
            },
            "colorscale": [
             [
              0,
              "#0d0887"
             ],
             [
              0.1111111111111111,
              "#46039f"
             ],
             [
              0.2222222222222222,
              "#7201a8"
             ],
             [
              0.3333333333333333,
              "#9c179e"
             ],
             [
              0.4444444444444444,
              "#bd3786"
             ],
             [
              0.5555555555555556,
              "#d8576b"
             ],
             [
              0.6666666666666666,
              "#ed7953"
             ],
             [
              0.7777777777777778,
              "#fb9f3a"
             ],
             [
              0.8888888888888888,
              "#fdca26"
             ],
             [
              1,
              "#f0f921"
             ]
            ],
            "type": "histogram2d"
           }
          ],
          "histogram2dcontour": [
           {
            "colorbar": {
             "outlinewidth": 0,
             "ticks": ""
            },
            "colorscale": [
             [
              0,
              "#0d0887"
             ],
             [
              0.1111111111111111,
              "#46039f"
             ],
             [
              0.2222222222222222,
              "#7201a8"
             ],
             [
              0.3333333333333333,
              "#9c179e"
             ],
             [
              0.4444444444444444,
              "#bd3786"
             ],
             [
              0.5555555555555556,
              "#d8576b"
             ],
             [
              0.6666666666666666,
              "#ed7953"
             ],
             [
              0.7777777777777778,
              "#fb9f3a"
             ],
             [
              0.8888888888888888,
              "#fdca26"
             ],
             [
              1,
              "#f0f921"
             ]
            ],
            "type": "histogram2dcontour"
           }
          ],
          "mesh3d": [
           {
            "colorbar": {
             "outlinewidth": 0,
             "ticks": ""
            },
            "type": "mesh3d"
           }
          ],
          "parcoords": [
           {
            "line": {
             "colorbar": {
              "outlinewidth": 0,
              "ticks": ""
             }
            },
            "type": "parcoords"
           }
          ],
          "pie": [
           {
            "automargin": true,
            "type": "pie"
           }
          ],
          "scatter": [
           {
            "fillpattern": {
             "fillmode": "overlay",
             "size": 10,
             "solidity": 0.2
            },
            "type": "scatter"
           }
          ],
          "scatter3d": [
           {
            "line": {
             "colorbar": {
              "outlinewidth": 0,
              "ticks": ""
             }
            },
            "marker": {
             "colorbar": {
              "outlinewidth": 0,
              "ticks": ""
             }
            },
            "type": "scatter3d"
           }
          ],
          "scattercarpet": [
           {
            "marker": {
             "colorbar": {
              "outlinewidth": 0,
              "ticks": ""
             }
            },
            "type": "scattercarpet"
           }
          ],
          "scattergeo": [
           {
            "marker": {
             "colorbar": {
              "outlinewidth": 0,
              "ticks": ""
             }
            },
            "type": "scattergeo"
           }
          ],
          "scattergl": [
           {
            "marker": {
             "colorbar": {
              "outlinewidth": 0,
              "ticks": ""
             }
            },
            "type": "scattergl"
           }
          ],
          "scattermapbox": [
           {
            "marker": {
             "colorbar": {
              "outlinewidth": 0,
              "ticks": ""
             }
            },
            "type": "scattermapbox"
           }
          ],
          "scatterpolar": [
           {
            "marker": {
             "colorbar": {
              "outlinewidth": 0,
              "ticks": ""
             }
            },
            "type": "scatterpolar"
           }
          ],
          "scatterpolargl": [
           {
            "marker": {
             "colorbar": {
              "outlinewidth": 0,
              "ticks": ""
             }
            },
            "type": "scatterpolargl"
           }
          ],
          "scatterternary": [
           {
            "marker": {
             "colorbar": {
              "outlinewidth": 0,
              "ticks": ""
             }
            },
            "type": "scatterternary"
           }
          ],
          "surface": [
           {
            "colorbar": {
             "outlinewidth": 0,
             "ticks": ""
            },
            "colorscale": [
             [
              0,
              "#0d0887"
             ],
             [
              0.1111111111111111,
              "#46039f"
             ],
             [
              0.2222222222222222,
              "#7201a8"
             ],
             [
              0.3333333333333333,
              "#9c179e"
             ],
             [
              0.4444444444444444,
              "#bd3786"
             ],
             [
              0.5555555555555556,
              "#d8576b"
             ],
             [
              0.6666666666666666,
              "#ed7953"
             ],
             [
              0.7777777777777778,
              "#fb9f3a"
             ],
             [
              0.8888888888888888,
              "#fdca26"
             ],
             [
              1,
              "#f0f921"
             ]
            ],
            "type": "surface"
           }
          ],
          "table": [
           {
            "cells": {
             "fill": {
              "color": "#EBF0F8"
             },
             "line": {
              "color": "white"
             }
            },
            "header": {
             "fill": {
              "color": "#C8D4E3"
             },
             "line": {
              "color": "white"
             }
            },
            "type": "table"
           }
          ]
         },
         "layout": {
          "annotationdefaults": {
           "arrowcolor": "#2a3f5f",
           "arrowhead": 0,
           "arrowwidth": 1
          },
          "autotypenumbers": "strict",
          "coloraxis": {
           "colorbar": {
            "outlinewidth": 0,
            "ticks": ""
           }
          },
          "colorscale": {
           "diverging": [
            [
             0,
             "#8e0152"
            ],
            [
             0.1,
             "#c51b7d"
            ],
            [
             0.2,
             "#de77ae"
            ],
            [
             0.3,
             "#f1b6da"
            ],
            [
             0.4,
             "#fde0ef"
            ],
            [
             0.5,
             "#f7f7f7"
            ],
            [
             0.6,
             "#e6f5d0"
            ],
            [
             0.7,
             "#b8e186"
            ],
            [
             0.8,
             "#7fbc41"
            ],
            [
             0.9,
             "#4d9221"
            ],
            [
             1,
             "#276419"
            ]
           ],
           "sequential": [
            [
             0,
             "#0d0887"
            ],
            [
             0.1111111111111111,
             "#46039f"
            ],
            [
             0.2222222222222222,
             "#7201a8"
            ],
            [
             0.3333333333333333,
             "#9c179e"
            ],
            [
             0.4444444444444444,
             "#bd3786"
            ],
            [
             0.5555555555555556,
             "#d8576b"
            ],
            [
             0.6666666666666666,
             "#ed7953"
            ],
            [
             0.7777777777777778,
             "#fb9f3a"
            ],
            [
             0.8888888888888888,
             "#fdca26"
            ],
            [
             1,
             "#f0f921"
            ]
           ],
           "sequentialminus": [
            [
             0,
             "#0d0887"
            ],
            [
             0.1111111111111111,
             "#46039f"
            ],
            [
             0.2222222222222222,
             "#7201a8"
            ],
            [
             0.3333333333333333,
             "#9c179e"
            ],
            [
             0.4444444444444444,
             "#bd3786"
            ],
            [
             0.5555555555555556,
             "#d8576b"
            ],
            [
             0.6666666666666666,
             "#ed7953"
            ],
            [
             0.7777777777777778,
             "#fb9f3a"
            ],
            [
             0.8888888888888888,
             "#fdca26"
            ],
            [
             1,
             "#f0f921"
            ]
           ]
          },
          "colorway": [
           "#636efa",
           "#EF553B",
           "#00cc96",
           "#ab63fa",
           "#FFA15A",
           "#19d3f3",
           "#FF6692",
           "#B6E880",
           "#FF97FF",
           "#FECB52"
          ],
          "font": {
           "color": "#2a3f5f"
          },
          "geo": {
           "bgcolor": "white",
           "lakecolor": "white",
           "landcolor": "#E5ECF6",
           "showlakes": true,
           "showland": true,
           "subunitcolor": "white"
          },
          "hoverlabel": {
           "align": "left"
          },
          "hovermode": "closest",
          "mapbox": {
           "style": "light"
          },
          "paper_bgcolor": "white",
          "plot_bgcolor": "#E5ECF6",
          "polar": {
           "angularaxis": {
            "gridcolor": "white",
            "linecolor": "white",
            "ticks": ""
           },
           "bgcolor": "#E5ECF6",
           "radialaxis": {
            "gridcolor": "white",
            "linecolor": "white",
            "ticks": ""
           }
          },
          "scene": {
           "xaxis": {
            "backgroundcolor": "#E5ECF6",
            "gridcolor": "white",
            "gridwidth": 2,
            "linecolor": "white",
            "showbackground": true,
            "ticks": "",
            "zerolinecolor": "white"
           },
           "yaxis": {
            "backgroundcolor": "#E5ECF6",
            "gridcolor": "white",
            "gridwidth": 2,
            "linecolor": "white",
            "showbackground": true,
            "ticks": "",
            "zerolinecolor": "white"
           },
           "zaxis": {
            "backgroundcolor": "#E5ECF6",
            "gridcolor": "white",
            "gridwidth": 2,
            "linecolor": "white",
            "showbackground": true,
            "ticks": "",
            "zerolinecolor": "white"
           }
          },
          "shapedefaults": {
           "line": {
            "color": "#2a3f5f"
           }
          },
          "ternary": {
           "aaxis": {
            "gridcolor": "white",
            "linecolor": "white",
            "ticks": ""
           },
           "baxis": {
            "gridcolor": "white",
            "linecolor": "white",
            "ticks": ""
           },
           "bgcolor": "#E5ECF6",
           "caxis": {
            "gridcolor": "white",
            "linecolor": "white",
            "ticks": ""
           }
          },
          "title": {
           "x": 0.05
          },
          "xaxis": {
           "automargin": true,
           "gridcolor": "white",
           "linecolor": "white",
           "ticks": "",
           "title": {
            "standoff": 15
           },
           "zerolinecolor": "white",
           "zerolinewidth": 2
          },
          "yaxis": {
           "automargin": true,
           "gridcolor": "white",
           "linecolor": "white",
           "ticks": "",
           "title": {
            "standoff": 15
           },
           "zerolinecolor": "white",
           "zerolinewidth": 2
          }
         }
        },
        "title": {
         "text": "<b>Average Experience by State"
        },
        "updatemenus": [
         {
          "bgcolor": "#d3d3d3",
          "buttons": [
           {
            "args": [
             {
              "visible": [
               true,
               false
              ]
             },
             {
              "title": "<b>Average Experience by State"
             }
            ],
            "label": "<b>Average Experience",
            "method": "update"
           },
           {
            "args": [
             {
              "visible": [
               false,
               true
              ]
             },
             {
              "title": "<b>Average Salary by State"
             }
            ],
            "label": "<b>Average Salary",
            "method": "update"
           }
          ],
          "direction": "left",
          "pad": {
           "r": 10,
           "t": 10
          },
          "showactive": true,
          "type": "buttons",
          "x": 1,
          "y": 1.2
         }
        ]
       }
      }
     },
     "metadata": {},
     "output_type": "display_data"
    }
   ],
   "source": [
    "# create the traces\n",
    "trace1 = go.Table(\n",
    "    header=dict(values=['<b>State', '<b>Average Experience Required (Years)'], fill_color='crimson'),\n",
    "    cells=dict(values=[experience_by_state['state'], experience_by_state['experience']]),\n",
    "    visible=True,\n",
    "    \n",
    ")\n",
    "\n",
    "trace2 = go.Table(\n",
    "    header=dict(values=['<b>State', '<b>Average Annual Salary (USD)'], fill_color='crimson', font=dict(family='Arial', size=13)),\n",
    "    cells=dict(values=[salary_by_state['state'], salary_by_state['salary']]),\n",
    "    visible=False,\n",
    ")\n",
    "\n",
    "\n",
    "# Create the text annotation\n",
    "text_annotation = go.layout.Annotation(\n",
    "    text='<b>Hello',\n",
    "    font=dict(family='Arial', size=12),\n",
    "    showarrow=False,\n",
    "    xref='paper',\n",
    "    yref='paper',\n",
    "    x=1,\n",
    "    y=1,\n",
    "    xanchor='left',\n",
    "    yanchor='bottom'\n",
    ")\n",
    "\n",
    "# create the updatemenus list and buttons for switching between tables\n",
    "updatemenus = [\n",
    "    dict(\n",
    "        type='buttons',\n",
    "        buttons=list([\n",
    "            dict(label='<b>Average Experience',\n",
    "                 method='update',\n",
    "                 args=[{'visible': [True, False]},\n",
    "                       {'title': '<b>Average Experience by State'}]),\n",
    "            dict(label='<b>Average Salary',\n",
    "                 method='update',\n",
    "                 args=[{'visible': [False, True]},\n",
    "                       {'title': '<b>Average Salary by State'}])\n",
    "        ]),\n",
    "        x=1,\n",
    "        y=1.2,\n",
    "        direction='left',\n",
    "        pad=dict(r=10, t=10),\n",
    "        showactive=True,\n",
    "        bgcolor='#d3d3d3',\n",
    "    )\n",
    "]\n",
    "\n",
    "# set the layout for the plot\n",
    "layout = dict(title='<b>Average Experience by State',\n",
    "              updatemenus=updatemenus)\n",
    "\n",
    "# create the figure and add the traces\n",
    "fig = go.Figure(data=[trace1, trace2], layout=layout)\n",
    "\n",
    "# display the plot\n",
    "fig.show()\n",
    "\n",
    "\n",
    "pio.write_html(fig, file=\"../../website/plots/table.html\")\n"
   ]
  },
  {
   "cell_type": "code",
   "execution_count": null,
   "metadata": {},
   "outputs": [],
   "source": []
  }
 ],
 "metadata": {
  "kernelspec": {
   "display_name": "anly503",
   "language": "python",
   "name": "python3"
  },
  "language_info": {
   "codemirror_mode": {
    "name": "ipython",
    "version": 3
   },
   "file_extension": ".py",
   "mimetype": "text/x-python",
   "name": "python",
   "nbconvert_exporter": "python",
   "pygments_lexer": "ipython3",
   "version": "3.10.8"
  },
  "orig_nbformat": 4
 },
 "nbformat": 4,
 "nbformat_minor": 2
}
